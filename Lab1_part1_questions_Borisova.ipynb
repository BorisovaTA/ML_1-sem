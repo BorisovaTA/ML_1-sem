{
  "cells": [
    {
      "cell_type": "markdown",
      "metadata": {
        "id": "g1Mvma3iQISg"
      },
      "source": [
        "*Credits: materials from this notebook belong to YSDA [Practical DL](https://github.com/yandexdataschool/Practical_DL) course. Special thanks for making them available online.*"
      ]
    },
    {
      "cell_type": "markdown",
      "metadata": {
        "id": "wq1Ja4AWQISj"
      },
      "source": [
        "# Lab assignment №1, part 1\n",
        "\n",
        "This lab assignment consists of several parts. You are supposed to make some transformations, train some models, estimate the quality of the models and explain your results.\n",
        "\n",
        "Several comments:\n",
        "* Don't hesitate to ask questions, it's a good practice.\n",
        "* No private/public sharing, please. The copied assignments will be graded with 0 points.\n",
        "* Blocks of this lab will be graded separately."
      ]
    },
    {
      "cell_type": "markdown",
      "metadata": {
        "id": "pXJzvsSpQISk"
      },
      "source": [
        "## 1. Matrix differentiation"
      ]
    },
    {
      "cell_type": "markdown",
      "metadata": {
        "id": "UceKw0HfQISl"
      },
      "source": [
        "Since it easy to google every task please please please try to undestand what's going on. The \"just answer\" thing will be not counted, make sure to present derivation of your solution. It is absolutely OK if you found an answer on web then just exercise in $\\LaTeX$ copying it into here."
      ]
    },
    {
      "cell_type": "markdown",
      "metadata": {
        "id": "JiO0xtYWQISl"
      },
      "source": [
        "Useful links: \n",
        "[1](http://www.machinelearning.ru/wiki/images/2/2a/Matrix-Gauss.pdf)\n",
        "[2](http://www.atmos.washington.edu/~dennis/MatrixCalculus.pdf)"
      ]
    },
    {
      "cell_type": "markdown",
      "metadata": {
        "id": "9LEewtrTQISl"
      },
      "source": [
        "## ex. 1"
      ]
    },
    {
      "cell_type": "markdown",
      "metadata": {
        "id": "rNYBgWl5QISl"
      },
      "source": [
        "$$  \n",
        "y = x^Tx,  \\quad x \\in \\mathbb{R}^N \n",
        "$$"
      ]
    },
    {
      "cell_type": "markdown",
      "metadata": {
        "id": "O6uG2gpRQISm"
      },
      "source": [
        "$$\n",
        "d<x,x> = <x,dx> + <dx, x> = <2x, dx> = <grad(y(x)), x>\n",
        "$$\n"
      ]
    },
    {
      "cell_type": "markdown",
      "metadata": {
        "id": "rxGsgW4mQISm"
      },
      "source": [
        "$$\n",
        "\\frac{dy}{dx} = 2x\n",
        "$$ "
      ]
    },
    {
      "cell_type": "markdown",
      "metadata": {
        "id": "BTFUIVylQISn"
      },
      "source": [
        "## ex. 2"
      ]
    },
    {
      "cell_type": "markdown",
      "metadata": {
        "id": "8NIPiQ93QISn"
      },
      "source": [
        "$$ y = tr(AB) \\quad A,B \\in \\mathbb{R}^{N \\times N} $$ "
      ]
    },
    {
      "cell_type": "markdown",
      "metadata": {
        "id": "AjIjXZTqQISn"
      },
      "source": [
        "$$\n",
        "d(<E_n, AB>) = <E_n, BdA> = <B^{T}, dA> = <grad(y(A)), dA>\n",
        "$$"
      ]
    },
    {
      "cell_type": "markdown",
      "metadata": {
        "id": "qTcN-M8GQISn"
      },
      "source": [
        "$$\n",
        "\\frac{dy}{dA} = B^{T}\n",
        "$$"
      ]
    },
    {
      "cell_type": "markdown",
      "metadata": {
        "id": "cxRQuE2pQISo"
      },
      "source": [
        "## ex. 3"
      ]
    },
    {
      "cell_type": "markdown",
      "metadata": {
        "id": "4wX2vH3gQISo"
      },
      "source": [
        "$$  \n",
        "y = x^TAc , \\quad A\\in \\mathbb{R}^{N \\times N}, x\\in \\mathbb{R}^{N}, c\\in \\mathbb{R}^{N} \n",
        "$$"
      ]
    },
    {
      "cell_type": "markdown",
      "metadata": {
        "id": "VtCtjtRIQISo"
      },
      "source": [
        "$$\n",
        "d(x^{T}Ac) = d(<x, Ac>) = <Ac, dx>\n",
        "$$"
      ]
    },
    {
      "cell_type": "markdown",
      "metadata": {
        "id": "zhi3mDGUQISo"
      },
      "source": [
        "$$\n",
        "\\frac{dy}{dx} = Ac\n",
        "$$"
      ]
    },
    {
      "cell_type": "markdown",
      "metadata": {
        "id": "AsZHF-e7QISo"
      },
      "source": [
        "$$\n",
        "d(x^{T}Ac) = d(<x, Ac>) = <x, cdA> = <c^{T}x, dA>\n",
        "$$"
      ]
    },
    {
      "cell_type": "markdown",
      "metadata": {
        "id": "bc4PdePiQISo"
      },
      "source": [
        "$$\n",
        "\\frac{dy}{dA} = c^{T} x\n",
        "$$ "
      ]
    },
    {
      "cell_type": "markdown",
      "metadata": {
        "id": "a4HDM5DFQISp"
      },
      "source": [
        "Hint for the latter (one of the ways): use *ex. 2* result and the fact \n",
        "$$\n",
        "tr(ABC) = tr (CAB)\n",
        "$$"
      ]
    },
    {
      "cell_type": "markdown",
      "metadata": {
        "id": "MIFqiuhnQISp"
      },
      "source": [
        "## ex. 4"
      ]
    },
    {
      "cell_type": "markdown",
      "metadata": {
        "id": "OzuYmmxgQISp"
      },
      "source": [
        "Classic matrix factorization example. Given matrix $X$ you need to find $A$, $S$ to approximate $X$. This can be done by simple gradient descent iteratively alternating $A$ and $S$ updates.\n",
        "$$\n",
        "J = || X - AS ||_F^2  , \\quad A\\in \\mathbb{R}^{N \\times R} , \\quad S\\in \\mathbb{R}^{R \\times M}\n",
        "$$\n",
        "\n",
        "$$\n",
        "d(<E_n, (X - AS)(X - AS)^{T}>) = d(<E_n, (-AdS)(X - AS)^{T} + (X - AS)(-AdS)^{T}>) = <2(X - AS), dS>\n",
        "$$\n",
        "\n",
        "$$\n",
        "\\frac{dJ}{dS} = 2(X - AS)\n",
        "$$\n",
        "\n",
        "You may use one of the following approaches:"
      ]
    },
    {
      "cell_type": "markdown",
      "metadata": {
        "id": "I61ysJTRQISp"
      },
      "source": [
        "#### First approach\n",
        "Using ex.2 and the fact:\n",
        "$$\n",
        "|| X ||_F^2 = tr(XX^T) \n",
        "$$ \n",
        "it is easy to derive gradients (you can find it in one of the refs). "
      ]
    },
    {
      "cell_type": "markdown",
      "metadata": {
        "id": "bRLhr7KrQISp"
      },
      "source": [
        "#### Second approach\n",
        "You can use *slightly different techniques* if they suits you. Take a look at this derivation:\n",
        "<img src=\"https://github.com/girafe-ai/ml-course/blob/22f_basic/homeworks/lab01_ml_pipeline/grad.png?raw=1\">\n",
        "(excerpt from [Handbook of blind source separation, Jutten, page 517](https://books.google.ru/books?id=PTbj03bYH6kC&printsec=frontcover&dq=Handbook+of+Blind+Source+Separation&hl=en&sa=X&ved=0ahUKEwi-q_apiJDLAhULvXIKHVXJDWcQ6AEIHDAA#v=onepage&q=Handbook%20of%20Blind%20Source%20Separation&f=false), open for better picture)."
      ]
    },
    {
      "cell_type": "markdown",
      "metadata": {
        "id": "wYC4JbeQQISq"
      },
      "source": [
        "#### Third approach\n",
        "And finally we can use chain rule! \n",
        "let $ F = AS $ \n",
        "\n",
        "**Find**\n",
        "$$\n",
        "\\frac{dJ}{dF} = || X - F ||_F^2 \\frac{dJ}{dF} = (X - F)^T (X - F) \\frac{dJ}{dF} = X^TX - 2F^TX + F^TF \\frac{dJ}{dF} = 0 - 2X + 2F = 2(F - X)\n",
        "$$ \n",
        "and \n",
        "$$\n",
        "\\frac{dF}{dS} =  \n",
        " \\begin{pmatrix}\n",
        "  A & \\cdots & 0 \\\\\n",
        "  \\vdots  & \\ddots & \\vdots  \\\\\n",
        "  0 & \\cdots & A\n",
        " \\end{pmatrix}\n",
        " \\in \\mathbb {R}^{NM \\times RM}\n",
        "$$ \n",
        "(the shape should be $ NM \\times RM )$.\n",
        "\n",
        "Now it is easy do get desired gradients:\n",
        "$$\n",
        "\\frac{dJ}{dS} =  2(F - X) A^T = 2(AS - X) A^T \n",
        "$$ "
      ]
    },
    {
      "cell_type": "markdown",
      "metadata": {
        "collapsed": true,
        "jupyter": {
          "outputs_hidden": true
        },
        "id": "BKstNDKMQISq"
      },
      "source": [
        "## 2. kNN questions\n",
        "Here come the questions from the assignment0_01. Please, refer to the assignment0_01 to get the context of the questions."
      ]
    },
    {
      "cell_type": "markdown",
      "metadata": {
        "id": "1YT2DVysQISq"
      },
      "source": [
        "### Question 1\n",
        "\n",
        "Notice the structured patterns in the distance matrix, where some rows or columns are visible brighter. (Note that with the default color scheme black indicates low distances while white indicates high distances.)\n",
        "\n",
        "- What in the data is the cause behind the distinctly bright rows?\n",
        "- What causes the columns?\n",
        "\n",
        "$\\color{blue}{\\textit Your Answer:}$\n",
        "В нашей матрице расстояний 100 строк, что соответствует размеру тестовой выборки и 1697 столбцов по числу обучающий изображений. Каждая строка в матрице расстояний представляет собой отдельное тестовое изображение и его расстояние до обучающих.\n",
        "\n",
        "Яркие (отчетливые) строки - это тестовые изображения, которые похожи (темные строки, обозначающие маленькое расстояние) или отличаются (светлые строки, обозначающие большое расстояние) от большинства обучающих.\n",
        "\n",
        "Столбцы по аналогии отражают похожую ситуацию по отношению к обучающим изображениям. Белые/светлые столбцы, например, возникают если обучающее изображение не похоже ни на одно из тестовых."
      ]
    },
    {
      "cell_type": "markdown",
      "metadata": {
        "id": "DLiUdft7QISr"
      },
      "source": [
        "### Question 2\n",
        "\n",
        "We can also use other distance metrics such as L1 distance.\n",
        "For pixel values $p_{ij}^{(k)}$ at location $(i,j)$ of some image $I_k$, \n",
        "\n",
        "the mean $\\mu$ across all pixels over all images is $$\\mu=\\frac{1}{nhw}\\sum_{k=1}^n\\sum_{i=1}^{h}\\sum_{j=1}^{w}p_{ij}^{(k)}$$\n",
        "And the pixel-wise mean $\\mu_{ij}$ across all images is \n",
        "$$\\mu_{ij}=\\frac{1}{n}\\sum_{k=1}^np_{ij}^{(k)}.$$\n",
        "The general standard deviation $\\sigma$ and pixel-wise standard deviation $\\sigma_{ij}$ is defined similarly.\n",
        "\n",
        "Which of the following preprocessing steps will not change the performance of a Nearest Neighbor classifier that uses L1 distance? Select all that apply.\n",
        "1. Subtracting the mean $\\mu$ ($\\tilde{p}_{ij}^{(k)}=p_{ij}^{(k)}-\\mu$.)\n",
        "2. Subtracting the per pixel mean $\\mu_{ij}$  ($\\tilde{p}_{ij}^{(k)}=p_{ij}^{(k)}-\\mu_{ij}$.)\n",
        "3. Subtracting the mean $\\mu$ and dividing by the standard deviation $\\sigma$.\n",
        "4. Subtracting the pixel-wise mean $\\mu_{ij}$ and dividing by the pixel-wise standard deviation $\\sigma_{ij}$.\n",
        "5. Rotating the coordinate axes of the data.\n",
        "\n",
        "$\\color{blue}{\\textit Your Answer:}$ 1, 2, 3, 5\n",
        "\n",
        "\n",
        "\n",
        "$\\color{blue}{\\textit Your Explanation:}$ \n",
        "\n",
        "1 и 3 Не влияет на производительность, т.к. одинаково преобразует все пиксели. 2 Не влияет на производительность, т.к. не влияет на расстояние между парой пикселей. 5 Поворот осей не влияет на производительность, а только меняет обозначения. 4 влияет на производительность, т.к. пиксели с высоким отклонением меньше повлияют на производительность алгоритма, а пиксели с низким - больше.\n",
        "\n"
      ]
    },
    {
      "cell_type": "markdown",
      "metadata": {
        "id": "Dmkz3MQlQISr"
      },
      "source": [
        "## Question 3\n",
        "\n",
        "Which of the following statements about $k$-Nearest Neighbor ($k$-NN) are true in a classification setting, and for all $k$? Select all that apply.\n",
        "1. The decision boundary (hyperplane between classes in feature space) of the k-NN classifier is linear.\n",
        "2. The training error of a 1-NN will always be lower than that of 5-NN.\n",
        "3. The test error of a 1-NN will always be lower than that of a 5-NN.\n",
        "4. The time needed to classify a test example with the k-NN classifier grows with the size of the training set.\n",
        "5. None of the above.\n",
        "\n",
        "$\\color{blue}{\\textit Your Answer:}$ 1, 4\n",
        "\n",
        "\n",
        "\n",
        "$\\color{blue}{\\textit Your Explanation:}$ \n",
        "1. Границы разделения классов могут быть любыми.\n",
        "2. Ошибка обучения на обучающей выборке при 1 \"соседе\" = 0.\n",
        "3. На тестовой выборке увеличение гиперпараметра k может дать более точные результаты.\n",
        "4. Да, т.к. метод вычисляет расстояние до каждого объекта обучающей выборки во время классификации\n"
      ]
    }
  ],
  "metadata": {
    "kernelspec": {
      "display_name": "Python 3",
      "language": "python",
      "name": "python3"
    },
    "language_info": {
      "codemirror_mode": {
        "name": "ipython",
        "version": 3
      },
      "file_extension": ".py",
      "mimetype": "text/x-python",
      "name": "python",
      "nbconvert_exporter": "python",
      "pygments_lexer": "ipython3",
      "version": "3.8.8"
    },
    "colab": {
      "provenance": []
    }
  },
  "nbformat": 4,
  "nbformat_minor": 0
}